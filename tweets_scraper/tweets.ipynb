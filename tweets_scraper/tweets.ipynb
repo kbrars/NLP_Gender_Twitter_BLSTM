{
 "cells": [
  {
   "cell_type": "code",
   "execution_count": 1,
   "metadata": {},
   "outputs": [],
   "source": [
    "from selenium import webdriver\n",
    "from selenium.webdriver.common.by import By\n",
    "from selenium.webdriver.common.keys import Keys\n",
    "import time\n",
    "import pandas as pd\n"
   ]
  },
  {
   "cell_type": "markdown",
   "metadata": {},
   "source": [
    "\n",
    "\n",
    "\n",
    "\n",
    "https://twitter.com/search?q={search_key}&src=typed_query"
   ]
  },
  {
   "cell_type": "code",
   "execution_count": 2,
   "metadata": {},
   "outputs": [],
   "source": [
    "#arama sayfasına yönlendime\n",
    "def make_search(search_key):\n",
    "    driver.get(f\"https://twitter.com/search?q={search_key}%20-%23%20lang%3Atr%20-filter%3Alinks%20-filter%3Areplies&src=typed_query\")\n",
    "    time.sleep(2)"
   ]
  },
  {
   "cell_type": "markdown",
   "metadata": {},
   "source": [
    "belirtilen sayıda Twitter sayfasını aşağı kaydırarak her sayfadaki tweet'leri toplar ve bunları benzersiz tweetlerin bulunduğu bir küme içinde biriktirme"
   ]
  },
  {
   "cell_type": "code",
   "execution_count": 3,
   "metadata": {},
   "outputs": [],
   "source": [
    "\n",
    "def get_capture_tweets(scroll_page_size):\n",
    "    for scroll in range(scroll_page_size):\n",
    "        driver.execute_script(\"window.scrollTo(0, document.body.scrollHeight);\")\n",
    "        time.sleep(2)\n",
    "        tweets = driver.find_elements(by=By.XPATH, value='//div[@data-testid=\"tweetText\"]')\n",
    "        time.sleep(2)\n",
    "        [captured_tweets.add(tw.text) for tw in tweets]"
   ]
  },
  {
   "cell_type": "code",
   "execution_count": 4,
   "metadata": {},
   "outputs": [],
   "source": [
    "#verilen anahtar kelimeyle Twitter'da bir arama yapar ve ardından 5 saniye bekleyip 2 sayfa tweet'i toplar.\n",
    "def proc(keyword):\n",
    "    make_search(keyword)\n",
    "    time.sleep(5)\n",
    "    get_capture_tweets(2)"
   ]
  },
  {
   "cell_type": "markdown",
   "metadata": {},
   "source": [
    "belirtilen dosya yolundaki metin dosyasını okuyarak her satırı küçük harflere çevirip sağdaki boşlukları temizleyip, bu satırları bir liste olan lines listesine ekler."
   ]
  },
  {
   "cell_type": "code",
   "execution_count": 5,
   "metadata": {},
   "outputs": [],
   "source": [
    "def txt_read(path):\n",
    "    with open(path, 'r', encoding='UTF-8') as file:\n",
    "        while line := file.readline().rstrip().lower():\n",
    "            lines.append(line)"
   ]
  },
  {
   "cell_type": "code",
   "execution_count": 6,
   "metadata": {},
   "outputs": [],
   "source": [
    "driver = webdriver.Chrome()"
   ]
  },
  {
   "cell_type": "code",
   "execution_count": 7,
   "metadata": {},
   "outputs": [],
   "source": [
    "# Twitter giriş yapma\n",
    "driver.get(\"https://twitter.com/login\")\n",
    "time.sleep(2)"
   ]
  },
  {
   "cell_type": "code",
   "execution_count": 8,
   "metadata": {},
   "outputs": [],
   "source": [
    "#kullanıcı adı input\n",
    "user = driver.find_element('xpath','//*[@id=\"layers\"]/div/div/div/div/div/div/div[2]/div[2]/div/div/div[2]/div[2]/div/div/div/div[5]/label/div/div[2]/div/input')\n",
    "user.send_keys(\"USERNAME\")"
   ]
  },
  {
   "cell_type": "code",
   "execution_count": 9,
   "metadata": {},
   "outputs": [],
   "source": [
    "#kullanıcı adı grildikten sonraki ileri butonu\n",
    "login = driver.find_element('xpath', '//*[@id=\"layers\"]/div/div/div/div/div/div/div[2]/div[2]/div/div/div[2]/div[2]/div/div/div/div[6]')\n",
    "login.click()\n",
    "time.sleep(2)"
   ]
  },
  {
   "cell_type": "code",
   "execution_count": 11,
   "metadata": {},
   "outputs": [],
   "source": [
    "#şifre input\n",
    "password = driver.find_element('xpath', '//*[@id=\"layers\"]/div/div/div/div/div/div/div[2]/div[2]/div/div/div[2]/div[2]/div[1]/div/div/div[3]/div/label/div/div[2]/div[1]/input')\n",
    "password.send_keys(\"PASSWORD\")\n",
    "time.sleep(2)"
   ]
  },
  {
   "cell_type": "code",
   "execution_count": 12,
   "metadata": {},
   "outputs": [],
   "source": [
    "#şifre girildikten sonraki ileri butonu\n",
    "giris = driver.find_element('xpath','//*[@id=\"layers\"]/div/div/div/div/div/div/div[2]/div[2]/div/div/div[2]/div[2]/div[2]/div/div[1]/div/div/div')\n",
    "giris.click()\n",
    "time.sleep(5)"
   ]
  },
  {
   "cell_type": "code",
   "execution_count": 13,
   "metadata": {},
   "outputs": [],
   "source": [
    "captured_tweets, captured_tweets_time = set(), set()\n",
    "lines = list()\n",
    "txt_read('../dataset/other_keywords.txt')\n"
   ]
  },
  {
   "cell_type": "code",
   "execution_count": 14,
   "metadata": {},
   "outputs": [],
   "source": [
    "for i in lines:\n",
    "        try:\n",
    "            driver.implicitly_wait(2)\n",
    "            proc(i)\n",
    "            driver.implicitly_wait(2)\n",
    "            \n",
    "        except Exception as ex:\n",
    "            print(f'Hata oldu : \" {i} \" kelimesinde!\\n {ex}')\n",
    "df = pd.DataFrame({'text': list(captured_tweets)})\n",
    "df.to_csv('../dataset/tweets.csv', index=False)"
   ]
  },
  {
   "cell_type": "code",
   "execution_count": 15,
   "metadata": {},
   "outputs": [],
   "source": [
    "driver.quit()"
   ]
  }
 ],
 "metadata": {
  "kernelspec": {
   "display_name": "Python 3",
   "language": "python",
   "name": "python3"
  },
  "language_info": {
   "codemirror_mode": {
    "name": "ipython",
    "version": 3
   },
   "file_extension": ".py",
   "mimetype": "text/x-python",
   "name": "python",
   "nbconvert_exporter": "python",
   "pygments_lexer": "ipython3",
   "version": "3.11.5"
  }
 },
 "nbformat": 4,
 "nbformat_minor": 2
}
